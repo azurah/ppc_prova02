{
 "cells": [
  {
   "cell_type": "code",
   "execution_count": 1,
   "metadata": {},
   "outputs": [
    {
     "name": "stdout",
     "output_type": "stream",
     "text": [
      "Com n = 1024 trapezoides, nossa estimativa\n",
      "da integral de 0 a 3 = 9.000004291534424"
     ]
    }
   ],
   "source": [
    "import MPI\n",
    "\n",
    "function f(x)\n",
    "    #return x*x\n",
    "    x*x\n",
    "end\n",
    "\n",
    "function Trap(left_endpt, right_endpt, trap_count, base_len)\n",
    "   \n",
    "    estimate = (f(left_endpt) + f(right_endpt))/2.0\n",
    "    for i in 1:trap_count - 1    \n",
    "        x = left_endpt + i*base_len\n",
    "        estimate += f(x)\n",
    "    end\n",
    "    estimate = estimate * base_len\n",
    "    #return implicito\n",
    "end\n",
    "\n",
    "function main()\n",
    "    MPI.Init()\n",
    "    \n",
    "    comm = MPI.COMM_WORLD\n",
    "    rank = MPI.Comm_rank(comm)\n",
    "    size = MPI.Comm_size(comm)    \n",
    "\n",
    "    n = 1024\n",
    "    a = 0\n",
    "    b = 3\n",
    "\n",
    "    h = (b - a) / n\n",
    "    local_n = n / size\n",
    "\n",
    "    local_a = a + rank * local_n * h\n",
    "    local_b = local_a + local_n * h\n",
    "    local_int = Trap(local_a, local_b, local_n, h)\n",
    "\n",
    "    if (rank != 0)\n",
    "        send_mesg = Array{Float64}(fill(local_int, 1))\n",
    "        MPI.Send(send_mesg, 0, 0, comm)\n",
    "\n",
    "    else  \n",
    "        total_int = local_int\n",
    "        for source in 1 : size - 1\n",
    "            recv_mesg = Array{Float64}(undef, 1)\n",
    "            MPI.Recv(recv_mesg, source, 0, comm)\n",
    "            total_int += local_int\n",
    "        end\n",
    "    end\n",
    "\n",
    "    if (rank == 0)\n",
    "        println(\"Com n = $n trapezoides, nossa estimativa\")\n",
    "        print(\"da integral de $a a $b = $total_int\")\n",
    "    end    \n",
    "    MPI.Finalize()\n",
    "\n",
    "end\n",
    "main()"
   ]
  },
  {
   "cell_type": "code",
   "execution_count": null,
   "metadata": {},
   "outputs": [],
   "source": []
  }
 ],
 "metadata": {
  "kernelspec": {
   "display_name": "Julia 1.5.3",
   "language": "julia",
   "name": "julia-1.5"
  },
  "language_info": {
   "file_extension": ".jl",
   "mimetype": "application/julia",
   "name": "julia",
   "version": "1.5.3"
  }
 },
 "nbformat": 4,
 "nbformat_minor": 4
}
