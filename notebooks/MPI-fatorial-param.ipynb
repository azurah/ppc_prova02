{
 "cells": [
  {
   "cell_type": "code",
   "execution_count": null,
   "metadata": {},
   "outputs": [],
   "source": [
    "#=\n",
    "Versão fatorial com comunicação parametrizado\n",
    "Autor: Edvan S. Sousa\n",
    "Ano: dezembro 2020\n",
    "Problema original: fatorial com comunicação parametrizado\n",
    "Versão Julia:MPI-fatorial-param\n",
    "=#\n",
    "import MPI\n",
    "\n",
    "MPI.Init()\n",
    "comm = MPI.COMM_WORLD\n",
    "comm_sz = MPI.Comm_size(comm)\n",
    "my_rank = MPI.Comm_rank(comm)\n",
    "\n",
    "#Função fatorial\n",
    "function fat(n, sz)\n",
    "    if n > 0\n",
    "        return n*fat(n-sz, sz)\n",
    "    else\n",
    "        return 1\n",
    "    end\n",
    "end\n",
    "\n",
    "function main()\n",
    "    tag = 0\n",
    "    root = 0\n",
    "    result = 1\n",
    "    parcial = 1\n",
    "    n = 10\n",
    "    send_mesg = Array{Float64}(undef, 1)\n",
    "    recv_mesg = Array{Float64}(undef, 1)\n",
    "    \n",
    "     if my_rank == root\n",
    "        parcial = fat(n-my_rank, comm_sz)\n",
    "        for q in 1:comm_sz\n",
    "            MPI.Irecv!(recv_mesg, q, tag, comm)\n",
    "            parcial = parcial*recv_mesg[1]\n",
    "        end\n",
    "        print(\"O resultado do fatorial de $n é = $parcial\")\n",
    "    else\n",
    "        result = fat(n-my_rank, comm_sz)\n",
    "        fill!(send_mesg, Float64(result))\n",
    "        MPI.Irecv!(send_mesg, root, tag, comm)\n",
    "    end\n",
    "    \n",
    "end\n",
    "\n",
    "MPI.Barrier(comm)\n",
    "MPI.Finalize()\n",
    "\n",
    "main()"
   ]
  },
  {
   "cell_type": "code",
   "execution_count": null,
   "metadata": {},
   "outputs": [],
   "source": []
  }
 ],
 "metadata": {
  "kernelspec": {
   "display_name": "Julia 1.5.3",
   "language": "julia",
   "name": "julia-1.5"
  },
  "language_info": {
   "file_extension": ".jl",
   "mimetype": "application/julia",
   "name": "julia",
   "version": "1.5.3"
  }
 },
 "nbformat": 4,
 "nbformat_minor": 4
}
