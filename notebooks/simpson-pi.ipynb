{
 "cells": [
  {
   "cell_type": "code",
   "execution_count": 7,
   "metadata": {},
   "outputs": [
    {
     "name": "stdout",
     "output_type": "stream",
     "text": [
      "Valor: 3.1270081587032403\n"
     ]
    }
   ],
   "source": [
    "#=\n",
    "Versão Trapézio com comunicação\n",
    "Autor: Edvan S. Sousa\n",
    "Ano: dezembro 2020\n",
    "Problema original: PI Simpson\n",
    "Versão Julia: simpson-pi\n",
    "=#\n",
    "function f(x)\n",
    "    return sqrt(1-x*x)\n",
    "end\n",
    "\n",
    "function simps(a, b, n)\n",
    "    h = 0.0\n",
    "    sum1 = 0.0\n",
    "    sum2 = 0.0\n",
    "    sum = 0.0\n",
    "    y0 = 0.0\n",
    "    yn = 0.0\n",
    "    i = 0\n",
    "    h = (b-a)/n\n",
    "    y0 = f(a + 0*h)\n",
    "    yn = f(a + n*h)\n",
    "    \n",
    "    for i in 1:n-1\n",
    "        if i%2 == 0\n",
    "            sum1 += f(a + i*h)\n",
    "        else\n",
    "            sum2 = sum2 + f(a + i*h)\n",
    "        end\n",
    "    end\n",
    "    sum = (h/3)*(y0 + yn + 2*sum1 +4*sum2)\n",
    "    return sum\n",
    "end\n",
    "\n",
    "function main()\n",
    "    PI = 4*simps(0, 1, 10)\n",
    "    println(\"Valor: $PI\")\n",
    "end\n",
    "\n",
    "main()"
   ]
  },
  {
   "cell_type": "code",
   "execution_count": null,
   "metadata": {},
   "outputs": [],
   "source": []
  }
 ],
 "metadata": {
  "kernelspec": {
   "display_name": "Julia 1.5.3",
   "language": "julia",
   "name": "julia-1.5"
  },
  "language_info": {
   "file_extension": ".jl",
   "mimetype": "application/julia",
   "name": "julia",
   "version": "1.5.3"
  }
 },
 "nbformat": 4,
 "nbformat_minor": 4
}
