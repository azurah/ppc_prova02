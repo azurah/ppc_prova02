{
 "cells": [
  {
   "cell_type": "code",
   "execution_count": 1,
   "metadata": {},
   "outputs": [
    {
     "name": "stdout",
     "output_type": "stream",
     "text": [
      "Eu sou 0 de 1 \n"
     ]
    }
   ],
   "source": [
    "#=\n",
    "Versão Hello com comunicação\n",
    "Autor: Jonathan\n",
    "Ano: dezembro 2020\n",
    "Problema original: Hello\n",
    "Versão Julia: MPI-hello-comm.jl\n",
    "=#\n",
    "import MPI\n",
    "\n",
    "MPI.Init()\n",
    "comm = MPI.COMM_WORLD\n",
    "size = MPI.Comm_size(comm)\n",
    "rank = MPI.Comm_rank(comm)\n",
    "\n",
    "if (rank != 0)\n",
    "    send_mesg = Vector{Char}(\"Eu sou $rank de $size\")\n",
    "    MPI.Send(send_mesg, 0, 0, comm)\n",
    "else\n",
    "    println(\"Eu sou $rank de $size \")\n",
    "    for i in 1:size-1\n",
    "        recv_mesg = Vector{Char}(undef, 40)\n",
    "        MPI.Recv!(recv_mesg, i, 0, comm)\n",
    "        println(String(recv_mesg))\n",
    "    end\n",
    "end\n",
    "\n",
    "sleep(rank*4)\n",
    "MPI.Barrier(comm)\n",
    "MPI.Finalize()"
   ]
  },
  {
   "cell_type": "code",
   "execution_count": null,
   "metadata": {},
   "outputs": [],
   "source": []
  }
 ],
 "metadata": {
  "kernelspec": {
   "display_name": "Julia 1.5.3",
   "language": "julia",
   "name": "julia-1.5"
  },
  "language_info": {
   "file_extension": ".jl",
   "mimetype": "application/julia",
   "name": "julia",
   "version": "1.5.3"
  }
 },
 "nbformat": 4,
 "nbformat_minor": 4
}
