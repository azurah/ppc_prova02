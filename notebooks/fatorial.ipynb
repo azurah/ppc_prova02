{
 "cells": [
  {
   "cell_type": "code",
   "execution_count": 4,
   "metadata": {},
   "outputs": [
    {
     "name": "stdout",
     "output_type": "stream",
     "text": [
      "Para o vlr 10 temos o fat = 3628800"
     ]
    }
   ],
   "source": [
    "# Mpi Fatorial\n",
    "\n",
    "function fat(n)\n",
    "    if n == 0\n",
    "       return 1\n",
    "    else\n",
    "        return n*fat(n-1)\n",
    "    end\n",
    "end\n",
    "\n",
    "function main()\n",
    "    n = 10\n",
    "    f = fat(n)\n",
    "    print(\"Para o vlr $n temos o fat = $f\")\n",
    "end\n",
    "\n",
    "main()"
   ]
  },
  {
   "cell_type": "code",
   "execution_count": null,
   "metadata": {},
   "outputs": [],
   "source": []
  }
 ],
 "metadata": {
  "kernelspec": {
   "display_name": "Julia 1.5.3",
   "language": "julia",
   "name": "julia-1.5"
  },
  "language_info": {
   "file_extension": ".jl",
   "mimetype": "application/julia",
   "name": "julia",
   "version": "1.5.3"
  }
 },
 "nbformat": 4,
 "nbformat_minor": 4
}
