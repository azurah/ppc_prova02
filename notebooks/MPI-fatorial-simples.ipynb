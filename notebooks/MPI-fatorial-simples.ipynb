{
 "cells": [
  {
   "cell_type": "code",
   "execution_count": 1,
   "metadata": {},
   "outputs": [
    {
     "name": "stdin",
     "output_type": "stream",
     "text": [
      "stdin>  11\n"
     ]
    },
    {
     "name": "stdout",
     "output_type": "stream",
     "text": [
      "processadores: 1, rank: 0, vlr atribuído: 11, fat(11) = 39916800  2.434585 seconds (283.36 k allocations: 14.221 MiB, 0.72% gc time)\n",
      "Benchmarking\n"
     ]
    }
   ],
   "source": [
    "#fatorial com MPI simples\n",
    "import MPI\n",
    "#import BenchmarkTools\n",
    "\n",
    "MPI.Init()\n",
    "const comm = MPI.COMM_WORLD\n",
    "const size = MPI.Comm_size(comm)\n",
    "const rank = MPI.Comm_rank(comm)\n",
    "\n",
    "function fat(n)\n",
    "    if n == 0\n",
    "        return 1\n",
    "    else\n",
    "        return n*fat(n-1)\n",
    "    end\n",
    "end\n",
    "\n",
    "function main()\n",
    "    #n = 10\n",
    "    n = readline()\n",
    "    n = parse(Int64, n) \n",
    "    f = fat(n)\n",
    "    print(\"processadores: $size, rank: $rank, vlr atribuído: $n, fat($n) = $f\")\n",
    "end\n",
    "\n",
    "MPI.Barrier(comm)\n",
    "MPI.Finalize()\n",
    "\n",
    "#@time main()\n"
   ]
  },
  {
   "cell_type": "code",
   "execution_count": null,
   "metadata": {},
   "outputs": [],
   "source": []
  },
  {
   "cell_type": "code",
   "execution_count": null,
   "metadata": {},
   "outputs": [],
   "source": []
  }
 ],
 "metadata": {
  "kernelspec": {
   "display_name": "Julia 1.5.3",
   "language": "julia",
   "name": "julia-1.5"
  },
  "language_info": {
   "file_extension": ".jl",
   "mimetype": "application/julia",
   "name": "julia",
   "version": "1.5.3"
  }
 },
 "nbformat": 4,
 "nbformat_minor": 4
}
