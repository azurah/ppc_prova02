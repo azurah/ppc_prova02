{
 "cells": [
  {
   "cell_type": "code",
   "execution_count": 1,
   "metadata": {},
   "outputs": [
    {
     "name": "stdout",
     "output_type": "stream",
     "text": [
      "Entre com os limites a, b da integral definida: \n"
     ]
    },
    {
     "name": "stdin",
     "output_type": "stream",
     "text": [
      "stdin>  0\n",
      "stdin>  5\n"
     ]
    },
    {
     "name": "stdout",
     "output_type": "stream",
     "text": [
      "Entre o numero de trapezios desejados: \n"
     ]
    },
    {
     "name": "stdin",
     "output_type": "stream",
     "text": [
      "stdin>  13\n"
     ]
    },
    {
     "name": "stdout",
     "output_type": "stream",
     "text": [
      "Com n = 13 trapezoides, nossa estimativa\n",
      "da integral de 0.0 e 5.0 = 41.78994082840237"
     ]
    }
   ],
   "source": [
    "import MPI\n",
    "\n",
    "function f(x::Float64)\n",
    "\treturn x*x\n",
    "end\n",
    "\n",
    "function Trap(left_endpt, right_endpt, trap_count, base_len)\n",
    "\n",
    "\tlocal estimate, x, i\n",
    "\testimate = (f(left_endpt) + f(right_endpt))/2\n",
    "\tfor i in 1:trap_count-1\n",
    "\t\tx = left_endpt + i*base_len\n",
    "\t\testimate += f(x)\n",
    "\tend\n",
    "\testimate *= base_len\n",
    "\treturn estimate\n",
    "end\t\n",
    "\n",
    "function main()\n",
    "\n",
    "\tMPI.Init()\n",
    "\tcomm = MPI.COMM_WORLD\n",
    "\tsize = MPI.Comm_size(comm)\n",
    "\trank = MPI.Comm_rank(comm)\n",
    "\n",
    "\tif rank == 0\n",
    "\t\tprint(\"Entre com os limites a, b da integral definida: \\n\")\n",
    "\t\ta = parse(Float64, readline())\n",
    "\t\tb = parse(Float64, readline())\n",
    "\t\tprint(\"Entre o numero de trapezios desejados: \\n\")\n",
    "\t\tn = parse(Int64, readline())\n",
    "\telse\n",
    "\t\ta = 0.0\n",
    "\t\tb = 0.0\n",
    "\t\tn = 0\n",
    "\tend\n",
    "\n",
    "\ta = MPI.bcast(a, 0, comm)\n",
    "\tb = MPI.bcast(b, 0, comm)\n",
    "\tn = MPI.bcast(n, 0, comm)\n",
    "\n",
    "\th = (b - a) / n\n",
    "\tlocal_n = n / size\n",
    "\n",
    "\tlocal_a = a + rank * local_n * h\n",
    "\tlocal_b = local_a + local_n * h\n",
    "\tlocal_int = Trap(local_a, local_b, local_n, h)\n",
    "\n",
    "\ttotal_int = MPI.Reduce(local_int, +, 0, comm)\n",
    "\n",
    "\tif rank == 0\n",
    "\t\tprint(\"Com n = $n trapezoides, nossa estimativa\\n\")\n",
    "\t\tprint(\"da integral de $a e $b = $total_int\")\n",
    "\tend\n",
    "\n",
    "end\n",
    "\n",
    "main()"
   ]
  },
  {
   "cell_type": "code",
   "execution_count": null,
   "metadata": {},
   "outputs": [],
   "source": []
  }
 ],
 "metadata": {
  "kernelspec": {
   "display_name": "Julia 1.5.3",
   "language": "julia",
   "name": "julia-1.5"
  },
  "language_info": {
   "file_extension": ".jl",
   "mimetype": "application/julia",
   "name": "julia",
   "version": "1.5.3"
  }
 },
 "nbformat": 4,
 "nbformat_minor": 4
}
