{
 "cells": [
  {
   "cell_type": "code",
   "execution_count": 1,
   "metadata": {},
   "outputs": [
    {
     "name": "stdout",
     "output_type": "stream",
     "text": [
      "Entre o numero de intervalos desejados: \n"
     ]
    },
    {
     "name": "stdin",
     "output_type": "stream",
     "text": [
      "stdin>  34\n"
     ]
    },
    {
     "name": "stdout",
     "output_type": "stream",
     "text": [
      "Com n = 34 intervalos, nossa estimativa\n",
      "para o valor de Pi eh 3.1392732269886356\n",
      "com precisao de -0.0023194266011574705"
     ]
    }
   ],
   "source": [
    "import MPI\n",
    "\n",
    "function f(x)\n",
    "\tsqrt(1 - x * x)\n",
    "end\n",
    "\n",
    "function Simps(a, b, n)\n",
    "\tsum1 = 0\n",
    "\tsum2 = 0\n",
    "\th = (b - a) / n\n",
    "\ty0 = f(a + 0 * h)\n",
    "\tyn = f(a + n * h)\n",
    "\tfor i in 1:n-1\n",
    "\t\tif (i % 2) == 0\n",
    "\t\t\tsum1 += f(a + i * h)\n",
    "\t\telse\n",
    "\t\t\tsum2 += f(a + i * h)\n",
    "\t\tend\n",
    "\tend\n",
    "\ts = (h / 3) * (y0 + yn + 2 * sum1 + 4 * sum2)\n",
    "end\n",
    "\n",
    "function main()\n",
    "\tMPI.Init()\n",
    "\tcomm = MPI.COMM_WORLD\n",
    "\tsize = MPI.Comm_size(comm)\n",
    "\trank = MPI.Comm_rank(comm)\n",
    "\n",
    "\tif rank == 0\n",
    "\t\tprint(\"Entre o numero de intervalos desejados: \\n\")\n",
    "\t\tn = parse(Int64, readline())\n",
    "\telse\n",
    "\t\tn = 0\n",
    "\tend\n",
    "\n",
    "\tn = MPI.bcast(n, 0, comm)\n",
    "\n",
    "\tlocal_n = n / size\n",
    "\th = 1 / size\n",
    "\n",
    "\tlocal_a = 0 + rank * h\n",
    "\tlocal_b = local_a + h\n",
    "\n",
    "\tlocal_Pi = Simps(local_a, local_b, local_n)\n",
    "\n",
    "\tMPI.Barrier(comm)\n",
    "\n",
    "\tfinal_Pi = MPI.Reduce(local_Pi, +, 0, comm)\n",
    "\n",
    "\tif rank == 0\n",
    "\t\tfinal_Pi *= 4\n",
    "\t\tprint(\"Com n = $n intervalos, nossa estimativa\\n\")\n",
    "\t\tprint(\"para o valor de Pi eh $final_Pi\\n\")\n",
    "\t\tprint(\"com precisao de $(final_Pi - pi)\")\n",
    "\tend\n",
    "\n",
    "\tMPI.Finalize()\n",
    "end\n",
    "\n",
    "main()"
   ]
  },
  {
   "cell_type": "code",
   "execution_count": null,
   "metadata": {},
   "outputs": [],
   "source": []
  }
 ],
 "metadata": {
  "kernelspec": {
   "display_name": "Julia 1.5.3",
   "language": "julia",
   "name": "julia-1.5"
  },
  "language_info": {
   "file_extension": ".jl",
   "mimetype": "application/julia",
   "name": "julia",
   "version": "1.5.3"
  }
 },
 "nbformat": 4,
 "nbformat_minor": 4
}
