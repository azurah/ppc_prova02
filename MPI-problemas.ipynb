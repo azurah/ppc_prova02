{
 "cells": [
  {
   "cell_type": "code",
   "execution_count": 3,
   "metadata": {},
   "outputs": [],
   "source": [
    "#=\n",
    "Autor: Edvan S. Sousa\n",
    "Ano: dezembro 2020\n",
    "Problema original: \n",
    "Versão Julia:\n",
    "\n",
    "FE4:\n",
    "1) Mpi Hello\n",
    "2) Mpi Hello com comunicacao\n",
    "3) Mpi Fatorial\n",
    "\n",
    "FE4 SOL:\n",
    "4) Mpi Fatorial com comunicacao\n",
    "5) Mpi Fatorial com comunicacao parametrizado\n",
    "\n",
    "FE5:\n",
    "6) Mpi Trapézio v2\n",
    "7) Mpi Trapézio v3\n",
    "\n",
    "FE5 SOL:\n",
    "8) Mpi Simpson Reduction\n",
    "\n",
    "FE6:\n",
    "9) Mpi Mult Matriz x Vetor\n",
    "10) Mpi Odd Even\n",
    "\n",
    "11) Questao 01\n",
    "12) Questao 04 1\n",
    "13) Questao 04 2\n",
    "14) Questão 05\n",
    "https://hendrikdcomp.bitbucket.io/ppc/sala/\n",
    "=#"
   ]
  },
  {
   "cell_type": "code",
   "execution_count": 1,
   "metadata": {},
   "outputs": [
    {
     "name": "stdout",
     "output_type": "stream",
     "text": [
      "Hello world, I am rank 0 of 1\n"
     ]
    }
   ],
   "source": [
    "# Questão 01\n",
    "# MPI-Hello\n",
    "import MPI\n",
    "\n",
    "function main()\n",
    "MPI.Init()\n",
    "comm = MPI.COMM_WORLD\n",
    "\n",
    "print(\"Hello world, I am rank $(MPI.Comm_rank(comm)) of $(MPI.Comm_size(comm))\\n\")\n",
    "MPI.Barrier(comm)\n",
    "\n",
    "MPI.Finalize()# Opcional. Invocado automaticamente qdo Julia encerra. \n",
    "end\n",
    "\n",
    "main()"
   ]
  },
  {
   "cell_type": "code",
   "execution_count": 1,
   "metadata": {},
   "outputs": [
    {
     "name": "stdout",
     "output_type": "stream",
     "text": [
      "Greeting@s from process 0 of 1!\n"
     ]
    },
    {
     "ename": "LoadError",
     "evalue": "MethodError: no method matching MPI.Buffer(::String)\nClosest candidates are:\n  MPI.Buffer(::A, !Matched::Int32, !Matched::MPI.Datatype) where A at C:\\Users\\sousa\\.julia\\packages\\MPI\\b7MVG\\src\\buffers.jl:123\n  MPI.Buffer(::Any, !Matched::Integer, !Matched::MPI.Datatype) at C:\\Users\\sousa\\.julia\\packages\\MPI\\b7MVG\\src\\buffers.jl:135\n  MPI.Buffer(!Matched::MPI.Buffer) at C:\\Users\\sousa\\.julia\\packages\\MPI\\b7MVG\\src\\buffers.jl:134\n  ...",
     "output_type": "error",
     "traceback": [
      "MethodError: no method matching MPI.Buffer(::String)\nClosest candidates are:\n  MPI.Buffer(::A, !Matched::Int32, !Matched::MPI.Datatype) where A at C:\\Users\\sousa\\.julia\\packages\\MPI\\b7MVG\\src\\buffers.jl:123\n  MPI.Buffer(::Any, !Matched::Integer, !Matched::MPI.Datatype) at C:\\Users\\sousa\\.julia\\packages\\MPI\\b7MVG\\src\\buffers.jl:135\n  MPI.Buffer(!Matched::MPI.Buffer) at C:\\Users\\sousa\\.julia\\packages\\MPI\\b7MVG\\src\\buffers.jl:134\n  ...",
      "",
      "Stacktrace:",
      " [1] Irecv!(::String, ::Int64, ::Int64, ::MPI.Comm) at C:\\Users\\sousa\\.julia\\packages\\MPI\\b7MVG\\src\\pointtopoint.jl:342",
      " [2] main() at .\\In[1]:30",
      " [3] top-level scope at In[1]:40",
      " [4] include_string(::Function, ::Module, ::String, ::String) at .\\loading.jl:1091"
     ]
    }
   ],
   "source": [
    "# Questão 02\n",
    "# MPI-Hello-comunicação\n",
    "import MPI\n",
    "\n",
    "function main()\n",
    "    \n",
    "MPI.Init()\n",
    "comm = MPI.COMM_WORLD\n",
    "greeting = \"\"\n",
    "    \n",
    "comm_sz = MPI.Comm_size(comm)\n",
    "my_rank = MPI.Comm_rank(comm)\n",
    "root = 0\n",
    "dst = mod(my_rank + 1, comm_sz)\n",
    "src = mod(my_rank-1, comm_sz)\n",
    "tag = 9\n",
    "\n",
    "if my_rank != root\n",
    "    # Create message\n",
    "    greeting = \"Greetings from process $(my_rank) of $(comm_sz)!\"\n",
    "    # Send message to process 0 \n",
    "    # Descrição Isend(data, dest::Integer, tag::Integer, comm::Comm)\n",
    "    MPI.Isend(greeting, dst, tag, comm)\n",
    "else\n",
    "    #Print my message\n",
    "    println(\"Greeting@s from process $(my_rank) of $(comm_sz)!\")\n",
    "    for q in 1:comm_sz\n",
    "        #Receive message from process q\n",
    "        # Descrição Recv!(data, src::Integer, tag::Integer, comm::Comm)\n",
    "        MPI.Irecv!(greeting, q, tag, comm)\n",
    "        #Print message from process q */\n",
    "        println(\"$(greeting)\")\n",
    "     end\n",
    "end\n",
    "\n",
    "MPI.Barrier(comm)\n",
    "MPI.Finalize()\n",
    "end\n",
    "\n",
    "main()\n"
   ]
  },
  {
   "cell_type": "code",
   "execution_count": null,
   "metadata": {},
   "outputs": [],
   "source": [
    "# examples/04-sendrecv.jl\n",
    "using MPI\n",
    "MPI.Init()\n",
    "\n",
    "comm = MPI.COMM_WORLD\n",
    "rank = MPI.Comm_rank(comm)\n",
    "size = MPI.Comm_size(comm)\n",
    "\n",
    "dst = mod(rank+1, size)\n",
    "src = mod(rank-1, size)\n",
    "\n",
    "N = 4\n",
    "\n",
    "send_mesg = Array{Float64}(undef, N)\n",
    "recv_mesg = Array{Float64}(undef, N)\n",
    "\n",
    "fill!(send_mesg, Float64(rank))\n",
    "\n",
    "rreq = MPI.Irecv!(recv_mesg, src,  src+32, comm)\n",
    "\n",
    "print(\"$rank: Sending   $rank -> $dst = $send_mesg\\n\")\n",
    "sreq = MPI.Isend(send_mesg, dst, rank+32, comm)\n",
    "\n",
    "stats = MPI.Waitall!([rreq, sreq])\n",
    "\n",
    "print(\"$rank: Received $src -> $rank = $recv_mesg\\n\")\n",
    "\n",
    "MPI.Barrier(comm)\n"
   ]
  },
  {
   "cell_type": "code",
   "execution_count": 1,
   "metadata": {},
   "outputs": [
    {
     "name": "stdout",
     "output_type": "stream",
     "text": [
      "Results: rank: 0 -> média: 0.0\n"
     ]
    }
   ],
   "source": [
    "#https://ddd.uab.cat/pub/artpub/2016//174327/comeco_a2016v48p535iENG_postprint.pdf\n",
    "import MPI\n",
    "import Statistics\n",
    "\n",
    "function main()\n",
    "    \n",
    "    MPI.Init()\n",
    "    comm = MPI.COMM_WORLD\n",
    "    size = MPI.Comm_size(comm)\n",
    "    rank = MPI.Comm_rank(comm)\n",
    "    \n",
    "    recv_mesg = zeros(100, 1)\n",
    "    \n",
    "    if rank == 0\n",
    "        send_mesg = rand(100, 1)\n",
    "        for i = 1:size-1\n",
    "            MPI.Send(send_mesg, i, 0, comm)\n",
    "        end\n",
    "    else\n",
    "        MPI.Recv!(recv_mesg, 0, 0, comm)\n",
    "    end\n",
    "    \n",
    "    m = Statistics.mean(+, recv_mesg)\n",
    "    sleep(rank*2)\n",
    "    println(\"Results: rank: \", rank, \" -> média: \", m)\n",
    "    \n",
    "    MPI.Barrier(comm)\n",
    "    MPI.Finalize()\n",
    "end\n",
    "\n",
    "main()"
   ]
  },
  {
   "cell_type": "code",
   "execution_count": null,
   "metadata": {},
   "outputs": [],
   "source": []
  }
 ],
 "metadata": {
  "kernelspec": {
   "display_name": "Julia 1.5.3",
   "language": "julia",
   "name": "julia-1.5"
  },
  "language_info": {
   "file_extension": ".jl",
   "mimetype": "application/julia",
   "name": "julia",
   "version": "1.5.3"
  }
 },
 "nbformat": 4,
 "nbformat_minor": 4
}
