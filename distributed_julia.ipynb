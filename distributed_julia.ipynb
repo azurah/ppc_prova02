{
 "cells": [
  {
   "cell_type": "code",
   "execution_count": null,
   "metadata": {},
   "outputs": [],
   "source": []
  },
  {
   "cell_type": "code",
   "execution_count": 13,
   "metadata": {},
   "outputs": [
    {
     "name": "stdout",
     "output_type": "stream",
     "text": [
      "Nro de cores = 1\n",
      "Nro de workers = 1\n",
      "Nro de cores = 1\n",
      "Nro de workers = 1\n"
     ]
    }
   ],
   "source": [
    "using Distributed\n",
    "\n",
    "println(\"Nro de cores = \", nprocs())\n",
    "println(\"Nro de workers = \", nworkers())"
   ]
  },
  {
   "cell_type": "code",
   "execution_count": 14,
   "metadata": {},
   "outputs": [
    {
     "name": "stdout",
     "output_type": "stream",
     "text": [
      "1 pid = 10524 Hello from DESKTOP-KE7SBVK\n",
      "1 pid = 10524 Hello from DESKTOP-KE7SBVK\n"
     ]
    }
   ],
   "source": [
    "for i in workers()\n",
    "    id, pid, host = fetch(@spawnat i (myid(), getpid(), gethostname()))\n",
    "    println(id, \" pid = \",pid,\" Hello from \",host)\n",
    "end"
   ]
  },
  {
   "cell_type": "code",
   "execution_count": null,
   "metadata": {},
   "outputs": [],
   "source": []
  }
 ],
 "metadata": {
  "kernelspec": {
   "display_name": "Julia 1.5.3",
   "language": "julia",
   "name": "julia-1.5"
  },
  "language_info": {
   "file_extension": ".jl",
   "mimetype": "application/julia",
   "name": "julia",
   "version": "1.5.3"
  }
 },
 "nbformat": 4,
 "nbformat_minor": 4
}
