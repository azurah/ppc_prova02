{
 "cells": [
  {
   "cell_type": "code",
   "execution_count": 1,
   "metadata": {},
   "outputs": [
    {
     "name": "stdout",
     "output_type": "stream",
     "text": [
      "summ.var = 23.548429434060292\n",
      "col_var = [0.2726930595090388 9.288954234323175 59.57216721409005]\n"
     ]
    },
    {
     "data": {
      "text/plain": [
       "1×3 Array{Float64,2}:\n",
       " 0.272693  9.28895  59.5722"
      ]
     },
     "execution_count": 1,
     "metadata": {},
     "output_type": "execute_result"
    }
   ],
   "source": [
    "# examples/03-reduce.jl\n",
    "# This example shows how to use custom datatypes and reduction operators\n",
    "# It computes the variance in parallel in a numerically stable way\n",
    "\n",
    "using MPI, Statistics\n",
    "\n",
    "MPI.Init()\n",
    "const comm = MPI.COMM_WORLD\n",
    "const root = 0\n",
    "\n",
    "# Define a custom struct\n",
    "# This contains the summary statistics (mean, variance, length) of a vector\n",
    "struct SummaryStat\n",
    "    mean::Float64\n",
    "    var::Float64\n",
    "    n::Float64\n",
    "end\n",
    "function SummaryStat(X::AbstractArray)\n",
    "    m = mean(X)\n",
    "    v = varm(X,m, corrected=false)\n",
    "    n = length(X)\n",
    "    SummaryStat(m,v,n)\n",
    "end\n",
    "\n",
    "# Define a custom reduction operator\n",
    "# this computes the pooled mean, pooled variance and total length\n",
    "function pool(S1::SummaryStat, S2::SummaryStat)\n",
    "    n = S1.n + S2.n\n",
    "    m = (S1.mean*S1.n + S2.mean*S2.n) / n\n",
    "    v = (S1.n * (S1.var + S1.mean * (S1.mean-m)) +\n",
    "         S2.n * (S2.var + S2.mean * (S2.mean-m)))/n\n",
    "    SummaryStat(m,v,n)\n",
    "end\n",
    "\n",
    "X = randn(10,3) .* [1,3,7]'\n",
    "\n",
    "# Perform a scalar reduction\n",
    "summ = MPI.Reduce(SummaryStat(X), pool, root, comm)\n",
    "\n",
    "if MPI.Comm_rank(comm) == root\n",
    "    @show summ.var\n",
    "end\n",
    "\n",
    "# Perform a vector reduction:\n",
    "# the reduction operator is applied elementwise\n",
    "col_summ = MPI.Reduce(mapslices(SummaryStat,X,dims=1), pool, root, comm)\n",
    "\n",
    "if MPI.Comm_rank(comm) == root\n",
    "    col_var = map(summ -> summ.var, col_summ)\n",
    "    @show col_var\n",
    "end"
   ]
  },
  {
   "cell_type": "code",
   "execution_count": null,
   "metadata": {},
   "outputs": [],
   "source": []
  },
  {
   "cell_type": "code",
   "execution_count": null,
   "metadata": {},
   "outputs": [],
   "source": []
  }
 ],
 "metadata": {
  "kernelspec": {
   "display_name": "Julia 1.5.3",
   "language": "julia",
   "name": "julia-1.5"
  },
  "language_info": {
   "file_extension": ".jl",
   "mimetype": "application/julia",
   "name": "julia",
   "version": "1.5.3"
  }
 },
 "nbformat": 4,
 "nbformat_minor": 4
}
