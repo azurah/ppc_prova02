{
 "cells": [
  {
   "cell_type": "code",
   "execution_count": 1,
   "metadata": {},
   "outputs": [
    {
     "name": "stdout",
     "output_type": "stream",
     "text": [
      "0: Sending   0 -> 0 = [0.0, 0.0, 0.0, 0.0]\n",
      "0: Received 0 -> 0 = [0.0, 0.0, 0.0, 0.0]\n"
     ]
    }
   ],
   "source": [
    "# examples/04-sendrecv.jl\n",
    "using MPI\n",
    "MPI.Init()\n",
    "\n",
    "comm = MPI.COMM_WORLD\n",
    "rank = MPI.Comm_rank(comm)\n",
    "size = MPI.Comm_size(comm)\n",
    "\n",
    "dst = mod(rank+1, size)\n",
    "src = mod(rank-1, size)\n",
    "\n",
    "N = 4\n",
    "\n",
    "send_mesg = Array{Float64}(undef, N)\n",
    "recv_mesg = Array{Float64}(undef, N)\n",
    "\n",
    "fill!(send_mesg, Float64(rank))\n",
    "\n",
    "rreq = MPI.Irecv!(recv_mesg, src,  src+32, comm)\n",
    "\n",
    "print(\"$rank: Sending   $rank -> $dst = $send_mesg\\n\")\n",
    "sreq = MPI.Isend(send_mesg, dst, rank+32, comm)\n",
    "\n",
    "stats = MPI.Waitall!([rreq, sreq])\n",
    "\n",
    "print(\"$rank: Received $src -> $rank = $recv_mesg\\n\")\n",
    "\n",
    "MPI.Barrier(comm)"
   ]
  },
  {
   "cell_type": "code",
   "execution_count": null,
   "metadata": {},
   "outputs": [],
   "source": []
  }
 ],
 "metadata": {
  "kernelspec": {
   "display_name": "Julia 1.5.3",
   "language": "julia",
   "name": "julia-1.5"
  },
  "language_info": {
   "file_extension": ".jl",
   "mimetype": "application/julia",
   "name": "julia",
   "version": "1.5.3"
  }
 },
 "nbformat": 4,
 "nbformat_minor": 4
}
