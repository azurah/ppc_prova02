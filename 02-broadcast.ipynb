{
 "cells": [
  {
   "cell_type": "code",
   "execution_count": 1,
   "metadata": {},
   "outputs": [
    {
     "name": "stdout",
     "output_type": "stream",
     "text": [
      " Running on 1 processes\n",
      "rank = 0, A = Complex{Float64}[1.0 + 2.0im, 2.0 + 4.0im, 3.0 + 6.0im, 4.0 + 8.0im, 5.0 + 10.0im]\n",
      "rank = 0, B = Dict(\"foo\" => \"bar\")\n",
      "rank = 0, f(3) = 14\n"
     ]
    }
   ],
   "source": [
    "# examples/02-broadcast.jl\n",
    "import MPI\n",
    "MPI.Init()\n",
    "\n",
    "comm = MPI.COMM_WORLD\n",
    "N = 5\n",
    "root = 0\n",
    "\n",
    "if MPI.Comm_rank(comm) == root\n",
    "    print(\" Running on $(MPI.Comm_size(comm)) processes\\n\")\n",
    "end\n",
    "MPI.Barrier(comm)\n",
    "\n",
    "if MPI.Comm_rank(comm) == root\n",
    "    A = [i*(1.0 + im*2.0) for i = 1:N]\n",
    "else\n",
    "    A = Array{ComplexF64}(undef, N)\n",
    "end\n",
    "\n",
    "MPI.Bcast!(A, root, comm)\n",
    "\n",
    "print(\"rank = $(MPI.Comm_rank(comm)), A = $A\\n\")\n",
    "\n",
    "if MPI.Comm_rank(comm) == root\n",
    "    B = Dict(\"foo\" => \"bar\")\n",
    "else\n",
    "    B = nothing\n",
    "end\n",
    "\n",
    "B = MPI.bcast(B, root, comm)\n",
    "print(\"rank = $(MPI.Comm_rank(comm)), B = $B\\n\")\n",
    "\n",
    "if MPI.Comm_rank(comm) == root\n",
    "    f = x -> x^2 + 2x - 1\n",
    "else\n",
    "    f = nothing\n",
    "end\n",
    "\n",
    "f = MPI.bcast(f, root, comm)\n",
    "print(\"rank = $(MPI.Comm_rank(comm)), f(3) = $(f(3))\\n\")"
   ]
  },
  {
   "cell_type": "code",
   "execution_count": null,
   "metadata": {},
   "outputs": [],
   "source": []
  }
 ],
 "metadata": {
  "kernelspec": {
   "display_name": "Julia 1.5.3",
   "language": "julia",
   "name": "julia-1.5"
  },
  "language_info": {
   "file_extension": ".jl",
   "mimetype": "application/julia",
   "name": "julia",
   "version": "1.5.3"
  }
 },
 "nbformat": 4,
 "nbformat_minor": 4
}
