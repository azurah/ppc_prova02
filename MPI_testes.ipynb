{
 "cells": [
  {
   "cell_type": "code",
   "execution_count": 2,
   "metadata": {},
   "outputs": [
    {
     "data": {
      "text/latex": [
       "\\begin{verbatim}\n",
       "@inbounds(blk)\n",
       "\\end{verbatim}\n",
       "Eliminates array bounds checking within expressions.\n",
       "\n",
       "In the example below the in-range check for referencing element \\texttt{i} of array \\texttt{A} is skipped to improve performance.\n",
       "\n",
       "\\begin{verbatim}\n",
       "function sum(A::AbstractArray)\n",
       "    r = zero(eltype(A))\n",
       "    for i = 1:length(A)\n",
       "        @inbounds r += A[i]\n",
       "    end\n",
       "    return r\n",
       "end\n",
       "\\end{verbatim}\n",
       "\\begin{quote}\n",
       "\\textbf{warning}\n",
       "\n",
       "Warning\n",
       "\n",
       "Using \\texttt{@inbounds} may return incorrect results/crashes/corruption for out-of-bounds indices. The user is responsible for checking it manually. Only use \\texttt{@inbounds} when it is certain from the information locally available that all accesses are in bounds.\n",
       "\n",
       "\\end{quote}\n"
      ],
      "text/markdown": [
       "```\n",
       "@inbounds(blk)\n",
       "```\n",
       "\n",
       "Eliminates array bounds checking within expressions.\n",
       "\n",
       "In the example below the in-range check for referencing element `i` of array `A` is skipped to improve performance.\n",
       "\n",
       "```julia\n",
       "function sum(A::AbstractArray)\n",
       "    r = zero(eltype(A))\n",
       "    for i = 1:length(A)\n",
       "        @inbounds r += A[i]\n",
       "    end\n",
       "    return r\n",
       "end\n",
       "```\n",
       "\n",
       "!!! warning\n",
       "    Using `@inbounds` may return incorrect results/crashes/corruption for out-of-bounds indices. The user is responsible for checking it manually. Only use `@inbounds` when it is certain from the information locally available that all accesses are in bounds.\n",
       "\n"
      ],
      "text/plain": [
       "\u001b[36m  @inbounds(blk)\u001b[39m\n",
       "\n",
       "  Eliminates array bounds checking within expressions.\n",
       "\n",
       "  In the example below the in-range check for referencing element \u001b[36mi\u001b[39m of array \u001b[36mA\u001b[39m\n",
       "  is skipped to improve performance.\n",
       "\n",
       "\u001b[36m  function sum(A::AbstractArray)\u001b[39m\n",
       "\u001b[36m      r = zero(eltype(A))\u001b[39m\n",
       "\u001b[36m      for i = 1:length(A)\u001b[39m\n",
       "\u001b[36m          @inbounds r += A[i]\u001b[39m\n",
       "\u001b[36m      end\u001b[39m\n",
       "\u001b[36m      return r\u001b[39m\n",
       "\u001b[36m  end\u001b[39m\n",
       "\n",
       "\u001b[33m\u001b[1m  │ \u001b[22m\u001b[39m\u001b[33m\u001b[1mWarning\u001b[22m\u001b[39m\n",
       "\u001b[33m\u001b[1m  │\u001b[22m\u001b[39m\n",
       "\u001b[33m\u001b[1m  │\u001b[22m\u001b[39m  Using \u001b[36m@inbounds\u001b[39m may return incorrect results/crashes/corruption\n",
       "\u001b[33m\u001b[1m  │\u001b[22m\u001b[39m  for out-of-bounds indices. The user is responsible for checking it\n",
       "\u001b[33m\u001b[1m  │\u001b[22m\u001b[39m  manually. Only use \u001b[36m@inbounds\u001b[39m when it is certain from the\n",
       "\u001b[33m\u001b[1m  │\u001b[22m\u001b[39m  information locally available that all accesses are in bounds."
      ]
     },
     "execution_count": 2,
     "metadata": {},
     "output_type": "execute_result"
    }
   ],
   "source": [
    "@doc @inbounds"
   ]
  },
  {
   "cell_type": "code",
   "execution_count": 3,
   "metadata": {},
   "outputs": [
    {
     "data": {
      "text/latex": [
       "\\begin{verbatim}\n",
       "@code_llvm\n",
       "\\end{verbatim}\n",
       "Evaluates the arguments to the function or macro call, determines their types, and calls \\href{@ref}{\\texttt{code\\_llvm}} on the resulting expression. Set the optional keyword arguments \\texttt{raw}, \\texttt{dump\\_module}, \\texttt{debuginfo}, \\texttt{optimize} by putting them and their value before the function call, like this:\n",
       "\n",
       "\\begin{verbatim}\n",
       "@code_llvm raw=true dump_module=true debuginfo=:default f(x)\n",
       "@code_llvm optimize=false f(x)\n",
       "\\end{verbatim}\n",
       "\\texttt{optimize} controls whether additional optimizations, such as inlining, are also applied. \\texttt{raw} makes all metadata and dbg.* calls visible. \\texttt{debuginfo} may be one of \\texttt{:source} (default) or \\texttt{:none},  to specify the verbosity of code comments. \\texttt{dump\\_module} prints the entire module that encapsulates the function.\n",
       "\n"
      ],
      "text/markdown": [
       "```\n",
       "@code_llvm\n",
       "```\n",
       "\n",
       "Evaluates the arguments to the function or macro call, determines their types, and calls [`code_llvm`](@ref) on the resulting expression. Set the optional keyword arguments `raw`, `dump_module`, `debuginfo`, `optimize` by putting them and their value before the function call, like this:\n",
       "\n",
       "```\n",
       "@code_llvm raw=true dump_module=true debuginfo=:default f(x)\n",
       "@code_llvm optimize=false f(x)\n",
       "```\n",
       "\n",
       "`optimize` controls whether additional optimizations, such as inlining, are also applied. `raw` makes all metadata and dbg.* calls visible. `debuginfo` may be one of `:source` (default) or `:none`,  to specify the verbosity of code comments. `dump_module` prints the entire module that encapsulates the function.\n"
      ],
      "text/plain": [
       "\u001b[36m  @code_llvm\u001b[39m\n",
       "\n",
       "  Evaluates the arguments to the function or macro call, determines their\n",
       "  types, and calls \u001b[36mcode_llvm\u001b[39m on the resulting expression. Set the optional\n",
       "  keyword arguments \u001b[36mraw\u001b[39m, \u001b[36mdump_module\u001b[39m, \u001b[36mdebuginfo\u001b[39m, \u001b[36moptimize\u001b[39m by putting them and\n",
       "  their value before the function call, like this:\n",
       "\n",
       "\u001b[36m  @code_llvm raw=true dump_module=true debuginfo=:default f(x)\u001b[39m\n",
       "\u001b[36m  @code_llvm optimize=false f(x)\u001b[39m\n",
       "\n",
       "  \u001b[36moptimize\u001b[39m controls whether additional optimizations, such as inlining, are\n",
       "  also applied. \u001b[36mraw\u001b[39m makes all metadata and dbg.* calls visible. \u001b[36mdebuginfo\u001b[39m may\n",
       "  be one of \u001b[36m:source\u001b[39m (default) or \u001b[36m:none\u001b[39m, to specify the verbosity of code\n",
       "  comments. \u001b[36mdump_module\u001b[39m prints the entire module that encapsulates the\n",
       "  function."
      ]
     },
     "execution_count": 3,
     "metadata": {},
     "output_type": "execute_result"
    }
   ],
   "source": [
    "@doc @code_llvm"
   ]
  },
  {
   "cell_type": "code",
   "execution_count": 4,
   "metadata": {},
   "outputs": [
    {
     "data": {
      "text/latex": [
       "\\section{Documentation}\n",
       "Functions, methods and types can be documented by placing a string before the definition:\n",
       "\n",
       "\\begin{verbatim}\n",
       "\"\"\"\n",
       "# The Foo Function\n",
       "`foo(x)`: Foo the living hell out of `x`.\n",
       "\"\"\"\n",
       "foo(x) = ...\n",
       "\\end{verbatim}\n",
       "The \\texttt{@doc} macro can be used directly to both set and retrieve documentation / metadata. The macro has special parsing so that the documented object may occur on the next line:\n",
       "\n",
       "\\begin{verbatim}\n",
       "@doc \"blah\"\n",
       "function foo() ...\n",
       "\\end{verbatim}\n",
       "By default, documentation is written as Markdown, but any object can be used as the first argument.\n",
       "\n",
       "\\subsection{Documenting objects after they are defined}\n",
       "You can document an object after its definition by\n",
       "\n",
       "\\begin{verbatim}\n",
       "@doc \"foo\" function_to_doc\n",
       "@doc \"bar\" TypeToDoc\n",
       "\\end{verbatim}\n",
       "For macros, the syntax is \\texttt{@doc \"macro doc\" :(@Module.macro)} or \\texttt{@doc \"macro doc\" :(string\\_macro\"\")} for string macros. Without the quote \\texttt{:()} the expansion of the macro will be documented.\n",
       "\n",
       "\\subsection{Retrieving Documentation}\n",
       "You can retrieve docs for functions, macros and other objects as follows:\n",
       "\n",
       "\\begin{verbatim}\n",
       "@doc foo\n",
       "@doc @time\n",
       "@doc md\"\"\n",
       "\\end{verbatim}\n",
       "\\subsection{Functions \\& Methods}\n",
       "Placing documentation before a method definition (e.g. \\texttt{function foo() ...} or \\texttt{foo() = ...}) will cause that specific method to be documented, as opposed to the whole function. Method docs are concatenated together in the order they were defined to provide docs for the function.\n",
       "\n"
      ],
      "text/markdown": [
       "# Documentation\n",
       "\n",
       "Functions, methods and types can be documented by placing a string before the definition:\n",
       "\n",
       "```\n",
       "\"\"\"\n",
       "# The Foo Function\n",
       "`foo(x)`: Foo the living hell out of `x`.\n",
       "\"\"\"\n",
       "foo(x) = ...\n",
       "```\n",
       "\n",
       "The `@doc` macro can be used directly to both set and retrieve documentation / metadata. The macro has special parsing so that the documented object may occur on the next line:\n",
       "\n",
       "```\n",
       "@doc \"blah\"\n",
       "function foo() ...\n",
       "```\n",
       "\n",
       "By default, documentation is written as Markdown, but any object can be used as the first argument.\n",
       "\n",
       "## Documenting objects after they are defined\n",
       "\n",
       "You can document an object after its definition by\n",
       "\n",
       "```\n",
       "@doc \"foo\" function_to_doc\n",
       "@doc \"bar\" TypeToDoc\n",
       "```\n",
       "\n",
       "For macros, the syntax is `@doc \"macro doc\" :(@Module.macro)` or `@doc \"macro doc\" :(string_macro\"\")` for string macros. Without the quote `:()` the expansion of the macro will be documented.\n",
       "\n",
       "## Retrieving Documentation\n",
       "\n",
       "You can retrieve docs for functions, macros and other objects as follows:\n",
       "\n",
       "```\n",
       "@doc foo\n",
       "@doc @time\n",
       "@doc md\"\"\n",
       "```\n",
       "\n",
       "## Functions & Methods\n",
       "\n",
       "Placing documentation before a method definition (e.g. `function foo() ...` or `foo() = ...`) will cause that specific method to be documented, as opposed to the whole function. Method docs are concatenated together in the order they were defined to provide docs for the function.\n"
      ],
      "text/plain": [
       "\u001b[1m  Documentation\u001b[22m\n",
       "\u001b[1m  ≡≡≡≡≡≡≡≡≡≡≡≡≡≡≡\u001b[22m\n",
       "\n",
       "  Functions, methods and types can be documented by placing a string before\n",
       "  the definition:\n",
       "\n",
       "\u001b[36m  \"\"\"\u001b[39m\n",
       "\u001b[36m  # The Foo Function\u001b[39m\n",
       "\u001b[36m  `foo(x)`: Foo the living hell out of `x`.\u001b[39m\n",
       "\u001b[36m  \"\"\"\u001b[39m\n",
       "\u001b[36m  foo(x) = ...\u001b[39m\n",
       "\n",
       "  The \u001b[36m@doc\u001b[39m macro can be used directly to both set and retrieve documentation /\n",
       "  metadata. The macro has special parsing so that the documented object may\n",
       "  occur on the next line:\n",
       "\n",
       "\u001b[36m  @doc \"blah\"\u001b[39m\n",
       "\u001b[36m  function foo() ...\u001b[39m\n",
       "\n",
       "  By default, documentation is written as Markdown, but any object can be used\n",
       "  as the first argument.\n",
       "\n",
       "\u001b[1m  Documenting objects after they are defined\u001b[22m\n",
       "\u001b[1m  ============================================\u001b[22m\n",
       "\n",
       "  You can document an object after its definition by\n",
       "\n",
       "\u001b[36m  @doc \"foo\" function_to_doc\u001b[39m\n",
       "\u001b[36m  @doc \"bar\" TypeToDoc\u001b[39m\n",
       "\n",
       "  For macros, the syntax is \u001b[36m@doc \"macro doc\" :(@Module.macro)\u001b[39m or \u001b[36m@doc \"macro\n",
       "  doc\" :(string_macro\"\")\u001b[39m for string macros. Without the quote \u001b[36m:()\u001b[39m the\n",
       "  expansion of the macro will be documented.\n",
       "\n",
       "\u001b[1m  Retrieving Documentation\u001b[22m\n",
       "\u001b[1m  ==========================\u001b[22m\n",
       "\n",
       "  You can retrieve docs for functions, macros and other objects as follows:\n",
       "\n",
       "\u001b[36m  @doc foo\u001b[39m\n",
       "\u001b[36m  @doc @time\u001b[39m\n",
       "\u001b[36m  @doc md\"\"\u001b[39m\n",
       "\n",
       "\u001b[1m  Functions & Methods\u001b[22m\n",
       "\u001b[1m  =====================\u001b[22m\n",
       "\n",
       "  Placing documentation before a method definition (e.g. \u001b[36mfunction foo() ...\u001b[39m or\n",
       "  \u001b[36mfoo() = ...\u001b[39m) will cause that specific method to be documented, as opposed to\n",
       "  the whole function. Method docs are concatenated together in the order they\n",
       "  were defined to provide docs for the function."
      ]
     },
     "execution_count": 4,
     "metadata": {},
     "output_type": "execute_result"
    }
   ],
   "source": [
    "@doc @doc"
   ]
  },
  {
   "cell_type": "code",
   "execution_count": 5,
   "metadata": {},
   "outputs": [
    {
     "data": {
      "text/latex": [
       "\\begin{verbatim}\n",
       "@time\n",
       "\\end{verbatim}\n",
       "A macro to execute an expression, printing the time it took to execute, the number of allocations, and the total number of bytes its execution caused to be allocated, before returning the value of the expression.\n",
       "\n",
       "See also \\href{@ref}{\\texttt{@timev}}, \\href{@ref}{\\texttt{@timed}}, \\href{@ref}{\\texttt{@elapsed}}, and \\href{@ref}{\\texttt{@allocated}}.\n",
       "\n",
       "\\begin{quote}\n",
       "\\textbf{note}\n",
       "\n",
       "Note\n",
       "\n",
       "For more serious benchmarking, consider the \\texttt{@btime} macro from the BenchmarkTools.jl package which among other things evaluates the function multiple times in order to reduce noise.\n",
       "\n",
       "\\end{quote}\n",
       "\\begin{verbatim}\n",
       "julia> @time rand(10^6);\n",
       "  0.001525 seconds (7 allocations: 7.630 MiB)\n",
       "\n",
       "julia> @time begin\n",
       "           sleep(0.3)\n",
       "           1+1\n",
       "       end\n",
       "  0.301395 seconds (8 allocations: 336 bytes)\n",
       "2\n",
       "\\end{verbatim}\n"
      ],
      "text/markdown": [
       "```\n",
       "@time\n",
       "```\n",
       "\n",
       "A macro to execute an expression, printing the time it took to execute, the number of allocations, and the total number of bytes its execution caused to be allocated, before returning the value of the expression.\n",
       "\n",
       "See also [`@timev`](@ref), [`@timed`](@ref), [`@elapsed`](@ref), and [`@allocated`](@ref).\n",
       "\n",
       "!!! note\n",
       "    For more serious benchmarking, consider the `@btime` macro from the BenchmarkTools.jl package which among other things evaluates the function multiple times in order to reduce noise.\n",
       "\n",
       "\n",
       "```julia-repl\n",
       "julia> @time rand(10^6);\n",
       "  0.001525 seconds (7 allocations: 7.630 MiB)\n",
       "\n",
       "julia> @time begin\n",
       "           sleep(0.3)\n",
       "           1+1\n",
       "       end\n",
       "  0.301395 seconds (8 allocations: 336 bytes)\n",
       "2\n",
       "```\n"
      ],
      "text/plain": [
       "\u001b[36m  @time\u001b[39m\n",
       "\n",
       "  A macro to execute an expression, printing the time it took to execute, the\n",
       "  number of allocations, and the total number of bytes its execution caused to\n",
       "  be allocated, before returning the value of the expression.\n",
       "\n",
       "  See also \u001b[36m@timev\u001b[39m, \u001b[36m@timed\u001b[39m, \u001b[36m@elapsed\u001b[39m, and \u001b[36m@allocated\u001b[39m.\n",
       "\n",
       "\u001b[36m\u001b[1m  │ \u001b[22m\u001b[39m\u001b[36m\u001b[1mNote\u001b[22m\u001b[39m\n",
       "\u001b[36m\u001b[1m  │\u001b[22m\u001b[39m\n",
       "\u001b[36m\u001b[1m  │\u001b[22m\u001b[39m  For more serious benchmarking, consider the \u001b[36m@btime\u001b[39m macro from the\n",
       "\u001b[36m\u001b[1m  │\u001b[22m\u001b[39m  BenchmarkTools.jl package which among other things evaluates the\n",
       "\u001b[36m\u001b[1m  │\u001b[22m\u001b[39m  function multiple times in order to reduce noise.\n",
       "\n",
       "\u001b[36m  julia> @time rand(10^6);\u001b[39m\n",
       "\u001b[36m    0.001525 seconds (7 allocations: 7.630 MiB)\u001b[39m\n",
       "\u001b[36m  \u001b[39m\n",
       "\u001b[36m  julia> @time begin\u001b[39m\n",
       "\u001b[36m             sleep(0.3)\u001b[39m\n",
       "\u001b[36m             1+1\u001b[39m\n",
       "\u001b[36m         end\u001b[39m\n",
       "\u001b[36m    0.301395 seconds (8 allocations: 336 bytes)\u001b[39m\n",
       "\u001b[36m  2\u001b[39m"
      ]
     },
     "execution_count": 5,
     "metadata": {},
     "output_type": "execute_result"
    }
   ],
   "source": [
    "@doc @time"
   ]
  },
  {
   "cell_type": "code",
   "execution_count": 6,
   "metadata": {},
   "outputs": [
    {
     "data": {
      "text/latex": [
       "\\begin{verbatim}\n",
       "@timev\n",
       "\\end{verbatim}\n",
       "This is a verbose version of the \\texttt{@time} macro. It first prints the same information as \\texttt{@time}, then any non-zero memory allocation counters, and then returns the value of the expression.\n",
       "\n",
       "See also \\href{@ref}{\\texttt{@time}}, \\href{@ref}{\\texttt{@timed}}, \\href{@ref}{\\texttt{@elapsed}}, and \\href{@ref}{\\texttt{@allocated}}.\n",
       "\n",
       "\\begin{verbatim}\n",
       "julia> @timev rand(10^6);\n",
       "  0.001006 seconds (7 allocations: 7.630 MiB)\n",
       "elapsed time (ns): 1005567\n",
       "bytes allocated:   8000256\n",
       "pool allocs:       6\n",
       "malloc() calls:    1\n",
       "\\end{verbatim}\n"
      ],
      "text/markdown": [
       "```\n",
       "@timev\n",
       "```\n",
       "\n",
       "This is a verbose version of the `@time` macro. It first prints the same information as `@time`, then any non-zero memory allocation counters, and then returns the value of the expression.\n",
       "\n",
       "See also [`@time`](@ref), [`@timed`](@ref), [`@elapsed`](@ref), and [`@allocated`](@ref).\n",
       "\n",
       "```julia-repl\n",
       "julia> @timev rand(10^6);\n",
       "  0.001006 seconds (7 allocations: 7.630 MiB)\n",
       "elapsed time (ns): 1005567\n",
       "bytes allocated:   8000256\n",
       "pool allocs:       6\n",
       "malloc() calls:    1\n",
       "```\n"
      ],
      "text/plain": [
       "\u001b[36m  @timev\u001b[39m\n",
       "\n",
       "  This is a verbose version of the \u001b[36m@time\u001b[39m macro. It first prints the same\n",
       "  information as \u001b[36m@time\u001b[39m, then any non-zero memory allocation counters, and then\n",
       "  returns the value of the expression.\n",
       "\n",
       "  See also \u001b[36m@time\u001b[39m, \u001b[36m@timed\u001b[39m, \u001b[36m@elapsed\u001b[39m, and \u001b[36m@allocated\u001b[39m.\n",
       "\n",
       "\u001b[36m  julia> @timev rand(10^6);\u001b[39m\n",
       "\u001b[36m    0.001006 seconds (7 allocations: 7.630 MiB)\u001b[39m\n",
       "\u001b[36m  elapsed time (ns): 1005567\u001b[39m\n",
       "\u001b[36m  bytes allocated:   8000256\u001b[39m\n",
       "\u001b[36m  pool allocs:       6\u001b[39m\n",
       "\u001b[36m  malloc() calls:    1\u001b[39m"
      ]
     },
     "execution_count": 6,
     "metadata": {},
     "output_type": "execute_result"
    }
   ],
   "source": [
    "@doc @timev"
   ]
  },
  {
   "cell_type": "code",
   "execution_count": 7,
   "metadata": {},
   "outputs": [
    {
     "data": {
      "text/latex": [
       "\\begin{verbatim}\n",
       "@allocated\n",
       "\\end{verbatim}\n",
       "A macro to evaluate an expression, discarding the resulting value, instead returning the total number of bytes allocated during evaluation of the expression.\n",
       "\n",
       "See also \\href{@ref}{\\texttt{@time}}, \\href{@ref}{\\texttt{@timev}}, \\href{@ref}{\\texttt{@timed}}, and \\href{@ref}{\\texttt{@elapsed}}.\n",
       "\n",
       "\\begin{verbatim}\n",
       "julia> @allocated rand(10^6)\n",
       "8000080\n",
       "\\end{verbatim}\n"
      ],
      "text/markdown": [
       "```\n",
       "@allocated\n",
       "```\n",
       "\n",
       "A macro to evaluate an expression, discarding the resulting value, instead returning the total number of bytes allocated during evaluation of the expression.\n",
       "\n",
       "See also [`@time`](@ref), [`@timev`](@ref), [`@timed`](@ref), and [`@elapsed`](@ref).\n",
       "\n",
       "```julia-repl\n",
       "julia> @allocated rand(10^6)\n",
       "8000080\n",
       "```\n"
      ],
      "text/plain": [
       "\u001b[36m  @allocated\u001b[39m\n",
       "\n",
       "  A macro to evaluate an expression, discarding the resulting value, instead\n",
       "  returning the total number of bytes allocated during evaluation of the\n",
       "  expression.\n",
       "\n",
       "  See also \u001b[36m@time\u001b[39m, \u001b[36m@timev\u001b[39m, \u001b[36m@timed\u001b[39m, and \u001b[36m@elapsed\u001b[39m.\n",
       "\n",
       "\u001b[36m  julia> @allocated rand(10^6)\u001b[39m\n",
       "\u001b[36m  8000080\u001b[39m"
      ]
     },
     "execution_count": 7,
     "metadata": {},
     "output_type": "execute_result"
    }
   ],
   "source": [
    "@doc @allocated"
   ]
  },
  {
   "cell_type": "code",
   "execution_count": 8,
   "metadata": {},
   "outputs": [
    {
     "data": {
      "text/latex": [
       "\\begin{verbatim}\n",
       "@time\n",
       "\\end{verbatim}\n",
       "A macro to execute an expression, printing the time it took to execute, the number of allocations, and the total number of bytes its execution caused to be allocated, before returning the value of the expression.\n",
       "\n",
       "See also \\href{@ref}{\\texttt{@timev}}, \\href{@ref}{\\texttt{@timed}}, \\href{@ref}{\\texttt{@elapsed}}, and \\href{@ref}{\\texttt{@allocated}}.\n",
       "\n",
       "\\begin{quote}\n",
       "\\textbf{note}\n",
       "\n",
       "Note\n",
       "\n",
       "For more serious benchmarking, consider the \\texttt{@btime} macro from the BenchmarkTools.jl package which among other things evaluates the function multiple times in order to reduce noise.\n",
       "\n",
       "\\end{quote}\n",
       "\\begin{verbatim}\n",
       "julia> @time rand(10^6);\n",
       "  0.001525 seconds (7 allocations: 7.630 MiB)\n",
       "\n",
       "julia> @time begin\n",
       "           sleep(0.3)\n",
       "           1+1\n",
       "       end\n",
       "  0.301395 seconds (8 allocations: 336 bytes)\n",
       "2\n",
       "\\end{verbatim}\n"
      ],
      "text/markdown": [
       "```\n",
       "@time\n",
       "```\n",
       "\n",
       "A macro to execute an expression, printing the time it took to execute, the number of allocations, and the total number of bytes its execution caused to be allocated, before returning the value of the expression.\n",
       "\n",
       "See also [`@timev`](@ref), [`@timed`](@ref), [`@elapsed`](@ref), and [`@allocated`](@ref).\n",
       "\n",
       "!!! note\n",
       "    For more serious benchmarking, consider the `@btime` macro from the BenchmarkTools.jl package which among other things evaluates the function multiple times in order to reduce noise.\n",
       "\n",
       "\n",
       "```julia-repl\n",
       "julia> @time rand(10^6);\n",
       "  0.001525 seconds (7 allocations: 7.630 MiB)\n",
       "\n",
       "julia> @time begin\n",
       "           sleep(0.3)\n",
       "           1+1\n",
       "       end\n",
       "  0.301395 seconds (8 allocations: 336 bytes)\n",
       "2\n",
       "```\n"
      ],
      "text/plain": [
       "\u001b[36m  @time\u001b[39m\n",
       "\n",
       "  A macro to execute an expression, printing the time it took to execute, the\n",
       "  number of allocations, and the total number of bytes its execution caused to\n",
       "  be allocated, before returning the value of the expression.\n",
       "\n",
       "  See also \u001b[36m@timev\u001b[39m, \u001b[36m@timed\u001b[39m, \u001b[36m@elapsed\u001b[39m, and \u001b[36m@allocated\u001b[39m.\n",
       "\n",
       "\u001b[36m\u001b[1m  │ \u001b[22m\u001b[39m\u001b[36m\u001b[1mNote\u001b[22m\u001b[39m\n",
       "\u001b[36m\u001b[1m  │\u001b[22m\u001b[39m\n",
       "\u001b[36m\u001b[1m  │\u001b[22m\u001b[39m  For more serious benchmarking, consider the \u001b[36m@btime\u001b[39m macro from the\n",
       "\u001b[36m\u001b[1m  │\u001b[22m\u001b[39m  BenchmarkTools.jl package which among other things evaluates the\n",
       "\u001b[36m\u001b[1m  │\u001b[22m\u001b[39m  function multiple times in order to reduce noise.\n",
       "\n",
       "\u001b[36m  julia> @time rand(10^6);\u001b[39m\n",
       "\u001b[36m    0.001525 seconds (7 allocations: 7.630 MiB)\u001b[39m\n",
       "\u001b[36m  \u001b[39m\n",
       "\u001b[36m  julia> @time begin\u001b[39m\n",
       "\u001b[36m             sleep(0.3)\u001b[39m\n",
       "\u001b[36m             1+1\u001b[39m\n",
       "\u001b[36m         end\u001b[39m\n",
       "\u001b[36m    0.301395 seconds (8 allocations: 336 bytes)\u001b[39m\n",
       "\u001b[36m  2\u001b[39m"
      ]
     },
     "execution_count": 8,
     "metadata": {},
     "output_type": "execute_result"
    }
   ],
   "source": [
    "@doc @time"
   ]
  },
  {
   "cell_type": "code",
   "execution_count": 13,
   "metadata": {},
   "outputs": [
    {
     "data": {
      "text/latex": [
       "\\begin{verbatim}\n",
       "@async\n",
       "\\end{verbatim}\n",
       "Wrap an expression in a \\href{@ref}{\\texttt{Task}} and add it to the local machine's scheduler queue.\n",
       "\n",
       "Values can be interpolated into \\texttt{@async} via \\texttt{\\$}, which copies the value directly into the constructed underlying closure. This allows you to insert the \\emph{value} of a variable, isolating the aysnchronous code from changes to the variable's value in the current task.\n",
       "\n",
       "\\begin{quote}\n",
       "\\textbf{compat}\n",
       "\n",
       "Julia 1.4\n",
       "\n",
       "Interpolating values via \\texttt{\\$} is available as of Julia 1.4.\n",
       "\n",
       "\\end{quote}\n"
      ],
      "text/markdown": [
       "```\n",
       "@async\n",
       "```\n",
       "\n",
       "Wrap an expression in a [`Task`](@ref) and add it to the local machine's scheduler queue.\n",
       "\n",
       "Values can be interpolated into `@async` via `$`, which copies the value directly into the constructed underlying closure. This allows you to insert the *value* of a variable, isolating the aysnchronous code from changes to the variable's value in the current task.\n",
       "\n",
       "!!! compat \"Julia 1.4\"\n",
       "    Interpolating values via `$` is available as of Julia 1.4.\n",
       "\n"
      ],
      "text/plain": [
       "\u001b[36m  @async\u001b[39m\n",
       "\n",
       "  Wrap an expression in a \u001b[36mTask\u001b[39m and add it to the local machine's scheduler\n",
       "  queue.\n",
       "\n",
       "  Values can be interpolated into \u001b[36m@async\u001b[39m via \u001b[36m$\u001b[39m, which copies the value\n",
       "  directly into the constructed underlying closure. This allows you to insert\n",
       "  the \u001b[4mvalue\u001b[24m of a variable, isolating the aysnchronous code from changes to the\n",
       "  variable's value in the current task.\n",
       "\n",
       "\u001b[39m\u001b[1m  │ \u001b[22m\u001b[39m\u001b[1mJulia 1.4\u001b[22m\n",
       "\u001b[39m\u001b[1m  │\u001b[22m\n",
       "\u001b[39m\u001b[1m  │\u001b[22m  Interpolating values via \u001b[36m$\u001b[39m is available as of Julia 1.4."
      ]
     },
     "execution_count": 13,
     "metadata": {},
     "output_type": "execute_result"
    }
   ],
   "source": [
    "@doc @async"
   ]
  },
  {
   "cell_type": "markdown",
   "metadata": {},
   "source": [
    "### MPI broadcast"
   ]
  },
  {
   "cell_type": "code",
   "execution_count": 1,
   "metadata": {},
   "outputs": [],
   "source": [
    "import MPI\n",
    "MPI.Init()"
   ]
  },
  {
   "cell_type": "code",
   "execution_count": 2,
   "metadata": {},
   "outputs": [
    {
     "data": {
      "text/plain": [
       "0"
      ]
     },
     "execution_count": 2,
     "metadata": {},
     "output_type": "execute_result"
    }
   ],
   "source": [
    "comm = MPI.COMM_WORLD\n",
    "N = 5\n",
    "root = 0"
   ]
  },
  {
   "cell_type": "code",
   "execution_count": 3,
   "metadata": {},
   "outputs": [
    {
     "name": "stdout",
     "output_type": "stream",
     "text": [
      " Running on 1 processes\n"
     ]
    }
   ],
   "source": [
    "if MPI.Comm_rank(comm) == root\n",
    "    print(\" Running on $(MPI.Comm_size(comm)) processes\\n\")\n",
    "end\n",
    "MPI.Barrier(comm)"
   ]
  },
  {
   "cell_type": "code",
   "execution_count": 4,
   "metadata": {},
   "outputs": [
    {
     "data": {
      "text/plain": [
       "5-element Array{Complex{Float64},1}:\n",
       " 1.0 + 2.0im\n",
       " 2.0 + 4.0im\n",
       " 3.0 + 6.0im\n",
       " 4.0 + 8.0im\n",
       " 5.0 + 10.0im"
      ]
     },
     "execution_count": 4,
     "metadata": {},
     "output_type": "execute_result"
    }
   ],
   "source": [
    "if MPI.Comm_rank(comm) == root\n",
    "    A = [i*(1.0 + im*2.0) for i = 1:N]\n",
    "else\n",
    "    A = Array{ComplexF64}(undef, N)\n",
    "end"
   ]
  },
  {
   "cell_type": "code",
   "execution_count": 5,
   "metadata": {},
   "outputs": [
    {
     "name": "stdout",
     "output_type": "stream",
     "text": [
      "rank = 0, A = Complex{Float64}[1.0 + 2.0im, 2.0 + 4.0im, 3.0 + 6.0im, 4.0 + 8.0im, 5.0 + 10.0im]\n"
     ]
    },
    {
     "data": {
      "text/plain": [
       "Dict{String,String} with 1 entry:\n",
       "  \"foo\" => \"bar\""
      ]
     },
     "execution_count": 5,
     "metadata": {},
     "output_type": "execute_result"
    }
   ],
   "source": [
    "MPI.Bcast!(A, root, comm)\n",
    "\n",
    "print(\"rank = $(MPI.Comm_rank(comm)), A = $A\\n\")\n",
    "\n",
    "if MPI.Comm_rank(comm) == root\n",
    "    B = Dict(\"foo\" => \"bar\")\n",
    "else\n",
    "    B = nothing\n",
    "end"
   ]
  },
  {
   "cell_type": "code",
   "execution_count": 6,
   "metadata": {},
   "outputs": [
    {
     "name": "stdout",
     "output_type": "stream",
     "text": [
      "rank = 0, B = Dict(\"foo\" => \"bar\")\n",
      "rank = 0, f(3) = 14\n"
     ]
    }
   ],
   "source": [
    "B = MPI.bcast(B, root, comm)\n",
    "print(\"rank = $(MPI.Comm_rank(comm)), B = $B\\n\")\n",
    "\n",
    "if MPI.Comm_rank(comm) == root\n",
    "    f = x -> x^2 + 2x - 1\n",
    "else\n",
    "    f = nothing\n",
    "end\n",
    "\n",
    "f = MPI.bcast(f, root, comm)\n",
    "print(\"rank = $(MPI.Comm_rank(comm)), f(3) = $(f(3))\\n\")"
   ]
  },
  {
   "cell_type": "code",
   "execution_count": null,
   "metadata": {},
   "outputs": [],
   "source": [
    "\"\"\" \n",
    "#include <stdio.h>\n",
    "#include <string.h>  /* For strlen             */\n",
    "#include <mpi.h>     /* For MPI functions, etc */\n",
    "\n",
    "const int MAX_STRING = 100;\n",
    "\n",
    "int main(void) {\n",
    "   char       greeting[MAX_STRING];  /* String storing message */\n",
    "   int        comm_sz;               /* Number of processes    */\n",
    "   int        my_rank;               /* My process rank        */\n",
    "\n",
    "   /* Start up MPI */\n",
    "   MPI_Init(NULL, NULL);\n",
    "\n",
    "   /* Get the number of processes */\n",
    "   MPI_Comm_size(MPI_COMM_WORLD, &comm_sz);\n",
    "\n",
    "   /* Get my rank among all the processes */\n",
    "   MPI_Comm_rank(MPI_COMM_WORLD, &my_rank);\n",
    "\n",
    "   if (my_rank != 0) {\n",
    "      /* Create message */\n",
    "      sprintf(greeting, \"Greetings from process %d of %d!\", my_rank, comm_sz);\n",
    "      /* Send message to process 0 */\n",
    "      MPI_Send(greeting, strlen(greeting)+1, MPI_CHAR, 0, 0, MPI_COMM_WORLD);\n",
    "   } else {\n",
    "      /* Print my message */\n",
    "      printf(\"Greetings from process %d of %d!\\n\", my_rank, comm_sz);\n",
    "      for (int q = 1; q < comm_sz; q++) {\n",
    "         /* Receive message from process q */\n",
    "         MPI_Recv(greeting, MAX_STRING, MPI_CHAR, q, 0, MPI_COMM_WORLD, MPI_STATUS_IGNORE);\n",
    "         /* Print message from process q */\n",
    "         printf(\"%s\\n\", greeting);\n",
    "      }\n",
    "   }\n",
    "\n",
    "   /* Shut down MPI */\n",
    "   MPI_Finalize();\n",
    "\n",
    "   return 0;\n",
    "}  /* main */\n",
    "\"\"\""
   ]
  }
 ],
 "metadata": {
  "kernelspec": {
   "display_name": "Julia 1.5.3",
   "language": "julia",
   "name": "julia-1.5"
  },
  "language_info": {
   "file_extension": ".jl",
   "mimetype": "application/julia",
   "name": "julia",
   "version": "1.5.3"
  }
 },
 "nbformat": 4,
 "nbformat_minor": 4
}
